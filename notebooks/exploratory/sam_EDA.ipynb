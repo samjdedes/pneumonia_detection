{
 "cells": [
  {
   "cell_type": "code",
   "execution_count": 1,
   "metadata": {},
   "outputs": [],
   "source": [
    "# import packages for data manipulation\n",
    "import numpy as np\n",
    "import pandas as pd\n",
    "import os\n",
    "from glob import glob\n",
    "import tensorflow as tf\n",
    "import cv2"
   ]
  },
  {
   "cell_type": "code",
   "execution_count": 2,
   "metadata": {},
   "outputs": [],
   "source": [
    "from sklearn.model_selection import train_test_split"
   ]
  },
  {
   "cell_type": "code",
   "execution_count": 3,
   "metadata": {},
   "outputs": [],
   "source": [
    "# def get_dir_list(base_path, include_files=False, include_relative_path=True, print_paths=True):\n",
    "#     '''\n",
    "#     Input: \n",
    "#         base_path (string) path to parent folder to get containing items\n",
    "#         *kwargs\n",
    "#         include_files (bool=False) set to True to include file paths within directory\n",
    "#         include_relative_path (bool=True) set to False to return file/folder names instead of relative paths\n",
    "#     Returns:\n",
    "#         clean_directory (list of os paths/ strings) items within directory, depending on specified *kwargs either relative path or file/folder names\n",
    "#     '''\n",
    "#     if include_relative_path == True:\n",
    "#         clean_directory = glob(os.path.join(base_path, '*'))\n",
    "        \n",
    "#     else:\n",
    "#         clean_directory = os.listdir(base_path)\n",
    "\n",
    "#     if not include_files:\n",
    "#         # iterate through directory\n",
    "#         for name in clean_directory:\n",
    "\n",
    "#             # remove all names with file extensions\n",
    "#             if print_paths:\n",
    "#                 print('path: ', name)\n",
    "\n",
    "#             filename = name.split('/')[-1]\n",
    "\n",
    "#             if '.' in filename:\n",
    "#                 print(f'removed {name} from list')\n",
    "#                 clean_directory.remove(name)\n",
    "            \n",
    "#     return clean_directory"
   ]
  },
  {
   "cell_type": "code",
   "execution_count": 4,
   "metadata": {},
   "outputs": [],
   "source": [
    "# def get_img_paths(base_dir, folders_split=True):\n",
    "#     '''\n",
    "#     This function takes an input of a folder path and returns a list of tuples containing image paths with identifiers of 0 for Pneumonia and 1 for Normal.\n",
    "#     The path specified must contain folders named NORMAL and PNEUMONIA, or parent folders containing folders named NORMAL and PNEUMONIA\n",
    "    \n",
    "#     Inputs:\n",
    "#         base_dir (string/ os.path type) relative path to the directory with folders containing images\n",
    "#         *kwargs\n",
    "#         folders_split (bool=True) when set to true will assume images are split between train, test, and/or validation folders\n",
    "        \n",
    "#     Returns:\n",
    "#         img_paths (list of tuples) each tuple in this list has the file path to an image at position [0] and binary identifier at position [1]\n",
    "#     '''\n",
    "#     # instantiate empty lists to populate with paths\n",
    "#     pneumonia_paths = []\n",
    "#     normal_paths = []\n",
    "    \n",
    "#     # if data is split into train/test/val folders, find files recursively\n",
    "#     if folders_split:\n",
    "#         folder_paths = get_dir_list(base_dir, include_relative_path=True, print_paths=False);\n",
    "# #         print('folder paths: ', folder_paths)\n",
    "        \n",
    "#         # iterate through each folder\n",
    "#         for i in range(len(folder_paths)):\n",
    "#             print(' *** some FOLDER:  ***', folder_paths[i])\n",
    "            \n",
    "#             normal_or_pneumonia_folder = get_dir_list(folder_paths[i], include_relative_path=True, include_files=False, print_paths=False);\n",
    "            \n",
    "#             print(f'IS THIS BINARY??? {normal_or_pneumonia_folder}')\n",
    "        \n",
    "#             for k in range(len(normal_or_pneumonia_folder)):\n",
    "# #                 print(f'current folder path: {current_folder_paths[k]}')\n",
    "# #                 print(f'k = {k}')\n",
    "#                 current_folder_img_paths = get_dir_list(normal_or_pneumonia_folder[k], include_relative_path=True, include_files=True, print_paths=False);\n",
    "# #                 print(current_folder_img_paths)\n",
    "        \n",
    "#                 if k == 1:\n",
    "# #                     print(f'PneumoniaPath: {current_folder_img_paths}')\n",
    "#                     pneumonia_paths.extend(current_folder_img_paths)\n",
    "                \n",
    "#                 if k == 0:\n",
    "# #                 print(f'NormalPath: {current_folder_img_paths}')\n",
    "#                     normal_paths.extend(current_folder_img_paths) \n",
    "    \n",
    "    \n",
    "#     pneumonia = []\n",
    "#     for i in range(len(pneumonia_paths)):\n",
    "# #         print('PPPP\\n\\n path',pneumonia_paths[i])\n",
    "#         pneumonia.append((pneumonia_paths[i], 0))\n",
    "    \n",
    "#     normal = []\n",
    "#     for i in range(len(normal_paths)):\n",
    "# #         print('NNNN\\n\\n path',normal_paths[0][i])\n",
    "#         normal.append((normal_paths[i], 1))\n",
    "    \n",
    "#     return pneumonia, normal"
   ]
  },
  {
   "cell_type": "code",
   "execution_count": 58,
   "metadata": {},
   "outputs": [],
   "source": [
    "# def get_img_paths(base_dir, folders_split=True, single_return=True):\n",
    "#     '''\n",
    "#     This function takes an input of a folder path and returns a list of tuples containing image paths with identifiers of 0 for Pneumonia and 1 for Normal.\n",
    "#     The path specified must contain folders named NORMAL and PNEUMONIA, or parent folders containing folders named NORMAL and PNEUMONIA\n",
    "    \n",
    "#     Inputs:\n",
    "#         base_dir (string/ os.path type) relative path to the directory with folders containing images\n",
    "#         *kwargs\n",
    "#         folders_split (bool=True) when set to true will assume images are split between train, test, and/or validation folders\n",
    "        \n",
    "#     Returns:\n",
    "#         img_paths (list of tuples) each tuple in this list has the file path to an image at position [0] and binary identifier at position [1]\n",
    "#     '''\n",
    "#     #instantiate empty lists to populate with paths\n",
    "#     pneumonia_paths = []\n",
    "#     normal_paths = []\n",
    "    \n",
    "#     # this is a grandparent folder, find paths to parent folders\n",
    "    \n",
    "\n",
    "#     folder_paths = get_dir_list(base_dir, include_relative_path=True, print_paths=False)\n",
    "#     print('folder paths: ', folder_paths)\n",
    "    \n",
    "#     # loop through grandparent folders\n",
    "#     for i in range(len(folder_paths)):\n",
    "#         # get grandparent folders\n",
    "#         grandparent_folder = folder_paths[i]\n",
    "        \n",
    "#         # get lung_type folders\n",
    "#         lung_folders = get_dir_list(grandparent_folder, include_relative_path=True, print_paths=False)\n",
    "        \n",
    "#         # loop through lung folder types and get paths\n",
    "        \n",
    "#         for j in range(len(lung_folders)):\n",
    "#             print(lung_folders[j], j)\n",
    "#             #get image paths\n",
    "#             image_paths = get_dir_list(lung_folders[j], include_relative_path=True, include_files=True)\n",
    "            \n",
    "#             # loop through paths and add identifiers \n",
    "#             for path in image_paths:\n",
    "                \n",
    "#                 # get normal images at index [0]\n",
    "#                 if j == 0:\n",
    "#                     normal_paths.append((path, 0))\n",
    "                    \n",
    "#                 # get pneumonia images at index [1]\n",
    "#                 if j == 1:\n",
    "#                     pneumonia_paths.append((path, 1))\n",
    "        \n",
    "#         # combine into single list if necessary\n",
    "#         if single_return:\n",
    "#             print('Len Normal Path:', len(normal_paths))\n",
    "#             print('Len Pneumonia Paths', len(pneumonia_paths))\n",
    "#             normal_paths.extend(pneumonia_paths)\n",
    "            \n",
    "#             return normal_paths\n",
    "            \n",
    "#         else:\n",
    "#             return normal_paths, pneumonia_paths\n",
    "        \n",
    "\n",
    "    \n",
    "# #     return pneumonia_paths, normal_paths\n"
   ]
  },
  {
   "cell_type": "code",
   "execution_count": 107,
   "metadata": {},
   "outputs": [],
   "source": [
    "def get_img_paths(base_dir, ignore_filetypes=['.txt'], type_folders={'NORMAL':0, 'PNEUMONIA':1}):\n",
    "    '''\n",
    "    Inputs:\n",
    "        base_dir (string/ os.path type) relative path to the directory with folders containing images\n",
    "        *kwargs\n",
    "        ignore_filetypes (list of strings) filetypes to exclude from output\n",
    "        type_foldes (dictionary) folders that identify different filetypes and add identifiers to add to output\n",
    "    Returns:\n",
    "        paths (list of tuples) relative paths to files with identifiers\n",
    "    '''\n",
    "    normal_paths = []\n",
    "    pneumonia_paths = []\n",
    "        \n",
    "    for root, dirs, files in os.walk(base_dir):\n",
    "        #remove undesired files\n",
    "        if ignore_filetypes:\n",
    "        #check each file\n",
    "            for file in files:                \n",
    "                for file_type in ignore_filetypes:\n",
    "                    if file_type in file:\n",
    "                        files.remove(file)\n",
    "        if files:\n",
    "            for file in files:\n",
    "                    full_path = os.path.join(root, file)\n",
    "                    \n",
    "                    if 'NORMAL' in full_path:\n",
    "                        normal_paths.append((full_path, 0))\n",
    "                        \n",
    "                    elif 'PNEUMONIA' in full_path:\n",
    "                        pneumonia_paths.append((full_path, 1))\n",
    "                    \n",
    "        \n",
    "        \n",
    "        \n",
    "                \n",
    "#         if type_folders:\n",
    "#             for key, value in type_folders.items():\n",
    "#                 if key in root:\n",
    "                    \n",
    "#         print('root: ', root)\n",
    "#         print('files: ', files[:5], len(files))\n",
    "#         print('paths: ', paths)\n",
    "    normal_paths.extend(pneumonia_paths)\n",
    "    return normal_paths"
   ]
  },
  {
   "cell_type": "code",
   "execution_count": null,
   "metadata": {},
   "outputs": [],
   "source": []
  },
  {
   "cell_type": "code",
   "execution_count": 108,
   "metadata": {},
   "outputs": [
    {
     "data": {
      "text/plain": [
       "5856"
      ]
     },
     "execution_count": 108,
     "metadata": {},
     "output_type": "execute_result"
    }
   ],
   "source": [
    "base_dir = '../../data/chest_xray'\n",
    "x = get_img_paths(base_dir)\n",
    "len(x)"
   ]
  },
  {
   "cell_type": "code",
   "execution_count": 126,
   "metadata": {},
   "outputs": [
    {
     "data": {
      "text/plain": [
       "('../../data/chest_xray\\\\val\\\\PNEUMONIA\\\\person1950_bacteria_4881.jpeg', 1)"
      ]
     },
     "execution_count": 126,
     "metadata": {},
     "output_type": "execute_result"
    }
   ],
   "source": [
    "x[-4]"
   ]
  },
  {
   "cell_type": "code",
   "execution_count": 47,
   "metadata": {},
   "outputs": [],
   "source": [
    "# len(pneumonia_paths)"
   ]
  },
  {
   "cell_type": "code",
   "execution_count": 128,
   "metadata": {},
   "outputs": [],
   "source": [
    "base_dir = '../../data/chest_xray'\n",
    "paths = get_img_paths(base_dir)\n",
    "\n",
    "x_train, x_val, x_test, y_train, y_val, y_test = custom_tts(paths, train_val_test_percents=(0.8, 0.025, 0.175))"
   ]
  },
  {
   "cell_type": "code",
   "execution_count": null,
   "metadata": {},
   "outputs": [],
   "source": []
  },
  {
   "cell_type": "code",
   "execution_count": 247,
   "metadata": {},
   "outputs": [],
   "source": [
    "def split_bac_viral(pneumonia_paths, normal_paths, normal_first=True):\n",
    "    '''\n",
    "    This function takes data and splits into bacterial and viral data\n",
    "    Input:\n",
    "        pnuemonia_paths (list of tuples) each tuple is a file path in index [0] and classification representing pneumonia in index [1]\n",
    "        normal_paths (list of tuples) each tuple is a file path in index [0] and classification representing normal lungs in index [1]\n",
    "        *kwargs\n",
    "            normal_first (bool=True) bool specifying if normal data should be first index [0] or last \n",
    "    Returns:\n",
    "        normal_paths (list of tuples) each tuple is a file path in index [0] and classification representing normal lungs in index [1]\n",
    "        bac_paths (list of tuples) each tuple is a file path in index [0] and classification representing lungs with viral pneumonia in index [1]\n",
    "        vir_paths (list of tuples) each tuple is a file path in index [0] and classification representing lungs with viral pnuemonia in index [1]\n",
    "    '''\n",
    "    \n",
    "    # instantiate lists to hld different paths\n",
    "    \n",
    "    bac_paths = []\n",
    "    vir_paths = []\n",
    "    \n",
    "    # iterate through paths and sort by name     \n",
    "    for path in pneumonia_paths:\n",
    "        \n",
    "        if 'bac' in path[0]:\n",
    "            bac_paths.append(path)\n",
    "            \n",
    "        elif 'vir' in path[0]:\n",
    "            vir_paths.append(path)\n",
    "            \n",
    "        else:\n",
    "            print(f'***PATH UNABLE TO BE IDENTIFIED: {path}')\n",
    "            \n",
    "            \n",
    "        \n",
    "    # change \"normal\" identifier to 0 or 2\n",
    "    # return according to index\n",
    "    \n",
    "    if normal_first:\n",
    "        for i in range(len(normal_paths)):\n",
    "            normal_paths[i][1] = 0\n",
    "        return normal_paths, bac_paths, vir_paths\n",
    "    else:\n",
    "        for i in range(len(normal_paths)):\n",
    "            normal_paths[i][1] = 2\n",
    "        return bac_paths, vir_paths, normal_paths\n",
    "    "
   ]
  },
  {
   "cell_type": "code",
   "execution_count": 53,
   "metadata": {},
   "outputs": [],
   "source": [
    "def custom_tts(data, train_val_test_percents=(0.8, 0.025, 0.175), random_state=2021):\n",
    "    '''\n",
    "    This function takes a tuple of data and returns a tuple of train, test, and validation data\n",
    "    Input:\n",
    "        data (list/ array like) each entry contians a file path in position [0] and classification in position [1]\n",
    "        train_val_test_percents (triple) triple containing decimal representations of split percentages used in train test split\n",
    "        *kwargs\n",
    "\n",
    "    Returns:\n",
    "        x_train\n",
    "        x_val\n",
    "        x_test\n",
    "        \n",
    "    '''\n",
    "    # Extract percentages used in split from triple\n",
    "    train_pct = train_val_test_percents[0]\n",
    "    test_pct = 1 - train_pct\n",
    "    val_pct = train_val_test_percents[0]/test_pct\n",
    "    paths = [d[0] for d in data]\n",
    "    types = [t[1] for t in data]\n",
    "    x_train, x_test, y_train, y_test = train_test_split(paths, types, train_size=train_pct, random_state=random_state)\n",
    "    \n",
    "    x_test, x_val, y_test, y_val = train_test_split(x_test, y_test, test_size=train_pct, random_state=random_state)\n",
    "    \n",
    "    return x_train, x_val, x_test, y_train, y_val, y_test"
   ]
  },
  {
   "cell_type": "code",
   "execution_count": 117,
   "metadata": {},
   "outputs": [],
   "source": [
    "def get_data(x, y, img_size=150):\n",
    "\n",
    "    data = []\n",
    "    \n",
    "    for i in range(len(x)): \n",
    "        path = x[i]\n",
    "        class_num = y[i]\n",
    "\n",
    "    #         for img in os.listdir(path):\n",
    "\n",
    "        try:\n",
    "            img_arr = cv2.imread(path)\n",
    "            resized_arr = cv2.resize(img_arr, (img_size, img_size)) # Reshaping images to preferred size\n",
    "            data.append([resized_arr, class_num])\n",
    "\n",
    "        except Exception as e:\n",
    "            print(e)\n",
    "                \n",
    "    return np.array(data)"
   ]
  },
  {
   "cell_type": "code",
   "execution_count": 122,
   "metadata": {},
   "outputs": [],
   "source": [
    "base_dir = '../../data/chest_xray'\n",
    "paths = get_img_paths(base_dir)\n",
    "len(paths)\n",
    "x_train, x_val, x_test, y_train, y_val, y_test = custom_tts(paths, train_val_test_percents=(0.8, 0.025, 0.175))\n",
    "train = get_data(x_train, y_train)\n",
    "test = get_data(x_test, y_test)\n",
    "val = get_data(x_val, y_val)"
   ]
  },
  {
   "cell_type": "code",
   "execution_count": 112,
   "metadata": {},
   "outputs": [
    {
     "data": {
      "text/plain": [
       "4684"
      ]
     },
     "execution_count": 112,
     "metadata": {},
     "output_type": "execute_result"
    }
   ],
   "source": [
    "len(x_train)"
   ]
  },
  {
   "cell_type": "code",
   "execution_count": 113,
   "metadata": {},
   "outputs": [
    {
     "data": {
      "text/plain": [
       "938"
      ]
     },
     "execution_count": 113,
     "metadata": {},
     "output_type": "execute_result"
    }
   ],
   "source": [
    "len(x_val)"
   ]
  },
  {
   "cell_type": "code",
   "execution_count": null,
   "metadata": {},
   "outputs": [],
   "source": []
  },
  {
   "cell_type": "code",
   "execution_count": null,
   "metadata": {},
   "outputs": [],
   "source": []
  },
  {
   "cell_type": "code",
   "execution_count": null,
   "metadata": {},
   "outputs": [],
   "source": []
  },
  {
   "cell_type": "code",
   "execution_count": null,
   "metadata": {},
   "outputs": [],
   "source": []
  },
  {
   "cell_type": "code",
   "execution_count": null,
   "metadata": {},
   "outputs": [],
   "source": []
  },
  {
   "cell_type": "code",
   "execution_count": null,
   "metadata": {},
   "outputs": [],
   "source": []
  },
  {
   "cell_type": "code",
   "execution_count": null,
   "metadata": {},
   "outputs": [],
   "source": []
  },
  {
   "cell_type": "code",
   "execution_count": null,
   "metadata": {},
   "outputs": [],
   "source": []
  },
  {
   "cell_type": "code",
   "execution_count": null,
   "metadata": {},
   "outputs": [],
   "source": []
  },
  {
   "cell_type": "code",
   "execution_count": null,
   "metadata": {},
   "outputs": [],
   "source": []
  },
  {
   "cell_type": "code",
   "execution_count": 92,
   "metadata": {},
   "outputs": [
    {
     "name": "stdout",
     "output_type": "stream",
     "text": [
      "path:  readme.txt\n",
      "removed readme.txt from list\n",
      "path:  train\n",
      "path:  val\n"
     ]
    },
    {
     "data": {
      "text/plain": [
       "['test', 'train', 'val']"
      ]
     },
     "execution_count": 92,
     "metadata": {},
     "output_type": "execute_result"
    }
   ],
   "source": [
    "get_dir_list(base_dir, include_relative_path=True)"
   ]
  },
  {
   "cell_type": "code",
   "execution_count": 226,
   "metadata": {},
   "outputs": [
    {
     "data": {
      "text/plain": [
       "16841"
      ]
     },
     "execution_count": 226,
     "metadata": {},
     "output_type": "execute_result"
    }
   ],
   "source": [
    "len(data)"
   ]
  },
  {
   "cell_type": "code",
   "execution_count": 227,
   "metadata": {},
   "outputs": [
    {
     "data": {
      "text/plain": [
       "2"
      ]
     },
     "execution_count": 227,
     "metadata": {},
     "output_type": "execute_result"
    }
   ],
   "source": [
    "len(data[:][0])"
   ]
  },
  {
   "cell_type": "code",
   "execution_count": 257,
   "metadata": {},
   "outputs": [
    {
     "data": {
      "text/plain": [
       "('../../data/chest_xray\\\\train\\\\NORMAL\\\\IM-0115-0001.jpeg', 1)"
      ]
     },
     "execution_count": 257,
     "metadata": {},
     "output_type": "execute_result"
    }
   ],
   "source": [
    "data[:][0]"
   ]
  },
  {
   "cell_type": "code",
   "execution_count": 256,
   "metadata": {},
   "outputs": [
    {
     "data": {
      "text/plain": [
       "('../../data/chest_xray\\\\train\\\\NORMAL\\\\IM-0115-0001.jpeg', 1)"
      ]
     },
     "execution_count": 256,
     "metadata": {},
     "output_type": "execute_result"
    }
   ],
   "source": [
    "data[0]"
   ]
  },
  {
   "cell_type": "code",
   "execution_count": 258,
   "metadata": {},
   "outputs": [],
   "source": [
    "x, y, z, x1, y2, z3 = custom_tts(data)"
   ]
  },
  {
   "cell_type": "code",
   "execution_count": 232,
   "metadata": {},
   "outputs": [
    {
     "data": {
      "text/plain": [
       "13472"
      ]
     },
     "execution_count": 232,
     "metadata": {},
     "output_type": "execute_result"
    }
   ],
   "source": [
    "len(x1)"
   ]
  },
  {
   "cell_type": "code",
   "execution_count": 130,
   "metadata": {},
   "outputs": [
    {
     "ename": "TypeError",
     "evalue": "get_data() missing 1 required positional argument: 'y'",
     "output_type": "error",
     "traceback": [
      "\u001b[1;31m---------------------------------------------------------------------------\u001b[0m",
      "\u001b[1;31mTypeError\u001b[0m                                 Traceback (most recent call last)",
      "\u001b[1;32m<ipython-input-130-c981d03e30ee>\u001b[0m in \u001b[0;36m<module>\u001b[1;34m\u001b[0m\n\u001b[1;32m----> 1\u001b[1;33m \u001b[0mblah\u001b[0m \u001b[1;33m=\u001b[0m \u001b[0mget_data\u001b[0m\u001b[1;33m(\u001b[0m\u001b[0mx\u001b[0m\u001b[1;33m[\u001b[0m\u001b[1;36m0\u001b[0m\u001b[1;33m]\u001b[0m\u001b[1;33m)\u001b[0m\u001b[1;33m\u001b[0m\u001b[1;33m\u001b[0m\u001b[0m\n\u001b[0m",
      "\u001b[1;31mTypeError\u001b[0m: get_data() missing 1 required positional argument: 'y'"
     ]
    }
   ],
   "source": [
    "blah = get_data(x[0])"
   ]
  },
  {
   "cell_type": "code",
   "execution_count": 216,
   "metadata": {},
   "outputs": [
    {
     "data": {
      "text/plain": [
       "2696"
      ]
     },
     "execution_count": 216,
     "metadata": {},
     "output_type": "execute_result"
    }
   ],
   "source": [
    "len(y)"
   ]
  },
  {
   "cell_type": "code",
   "execution_count": 217,
   "metadata": {},
   "outputs": [
    {
     "data": {
      "text/plain": [
       "673"
      ]
     },
     "execution_count": 217,
     "metadata": {},
     "output_type": "execute_result"
    }
   ],
   "source": [
    "len(z)"
   ]
  },
  {
   "cell_type": "code",
   "execution_count": 204,
   "metadata": {},
   "outputs": [
    {
     "name": "stdout",
     "output_type": "stream",
     "text": [
      "folder paths:  ['../../data/chest_xray/train\\\\NORMAL', '../../data/chest_xray/train\\\\PNEUMONIA']\n"
     ]
    },
    {
     "data": {
      "text/plain": [
       "1341"
      ]
     },
     "execution_count": 204,
     "metadata": {},
     "output_type": "execute_result"
    }
   ],
   "source": [
    "base_dir = '../../data/chest_xray/train'\n",
    "x, y = get_img_paths(base_dir)\n",
    "len(x)"
   ]
  },
  {
   "cell_type": "code",
   "execution_count": null,
   "metadata": {},
   "outputs": [],
   "source": [
    "train_test_split()"
   ]
  },
  {
   "cell_type": "code",
   "execution_count": 178,
   "metadata": {},
   "outputs": [
    {
     "name": "stdout",
     "output_type": "stream",
     "text": [
      "path:  ../../data/chest_xray\\readme.txt\n",
      "removed ../../data/chest_xray\\readme.txt from list\n",
      "path:  ../../data/chest_xray\\train\n",
      "path:  ../../data/chest_xray\\val\n",
      "path:  ../../data/chest_xray\\train\\NORMAL\n",
      "path:  ../../data/chest_xray\\train\\PNEUMONIA\n"
     ]
    }
   ],
   "source": [
    "base_dir = '../../data/chest_xray'\n",
    "# check naming convention in containing folder, folder must contain test, trian, and validation folders, named accordingly for the following line to work\n",
    "test_path, train_path, val_path = get_dir_list(base_dir, include_relative_path=True)\n",
    "train_img = get_dir_list(train_path, include_relative_path=True)"
   ]
  },
  {
   "cell_type": "code",
   "execution_count": 83,
   "metadata": {},
   "outputs": [
    {
     "data": {
      "text/plain": [
       "['readme.txt', 'test', 'train', 'val']"
      ]
     },
     "execution_count": 83,
     "metadata": {},
     "output_type": "execute_result"
    }
   ],
   "source": [
    "os.listdir(base_dir)"
   ]
  },
  {
   "cell_type": "code",
   "execution_count": 38,
   "metadata": {},
   "outputs": [
    {
     "data": {
      "text/plain": [
       "[('../../data/chest_xray\\\\train\\\\NORMAL\\\\IM-0115-0001.jpeg', 1),\n",
       " ('../../data/chest_xray\\\\train\\\\NORMAL\\\\IM-0117-0001.jpeg', 1),\n",
       " ('../../data/chest_xray\\\\train\\\\NORMAL\\\\IM-0119-0001.jpeg', 1),\n",
       " ('../../data/chest_xray\\\\train\\\\NORMAL\\\\IM-0122-0001.jpeg', 1),\n",
       " ('../../data/chest_xray\\\\train\\\\NORMAL\\\\IM-0125-0001.jpeg', 1)]"
      ]
     },
     "execution_count": 38,
     "metadata": {},
     "output_type": "execute_result"
    }
   ],
   "source": [
    "normal_train_img = get_dir_list(train_img[0], include_files=True)\n",
    "for i in range(len(normal_train_img)):\n",
    "    normal_train_img[i] = (normal_train_img[i], 1)\n",
    "normal_train_img[-5:-1]"
   ]
  },
  {
   "cell_type": "code",
   "execution_count": 196,
   "metadata": {},
   "outputs": [
    {
     "data": {
      "text/plain": [
       "16841"
      ]
     },
     "execution_count": 196,
     "metadata": {},
     "output_type": "execute_result"
    }
   ],
   "source": [
    "len(normal_train_img)"
   ]
  },
  {
   "cell_type": "code",
   "execution_count": 39,
   "metadata": {},
   "outputs": [
    {
     "data": {
      "text/plain": [
       "[('../../data/chest_xray\\\\train\\\\PNEUMONIA\\\\person1000_bacteria_2931.jpeg', 0),\n",
       " ('../../data/chest_xray\\\\train\\\\PNEUMONIA\\\\person1000_virus_1681.jpeg', 0),\n",
       " ('../../data/chest_xray\\\\train\\\\PNEUMONIA\\\\person1001_bacteria_2932.jpeg', 0),\n",
       " ('../../data/chest_xray\\\\train\\\\PNEUMONIA\\\\person1002_bacteria_2933.jpeg', 0),\n",
       " ('../../data/chest_xray\\\\train\\\\PNEUMONIA\\\\person1003_bacteria_2934.jpeg', 0)]"
      ]
     },
     "execution_count": 39,
     "metadata": {},
     "output_type": "execute_result"
    }
   ],
   "source": [
    "# train_img = get_dir_list(train_path, relative_path=True)\n",
    "pneumonia_train_img = get_dir_list(train_img[1], include_files=True)\n",
    "for i in range(len(pneumonia_train_img)):\n",
    "    pneumonia_train_img[i] = (pneumonia_train_img[i], 0)\n",
    "pneumonia_train_img[:5]"
   ]
  },
  {
   "cell_type": "code",
   "execution_count": null,
   "metadata": {},
   "outputs": [],
   "source": []
  },
  {
   "cell_type": "code",
   "execution_count": 71,
   "metadata": {},
   "outputs": [
    {
     "data": {
      "text/plain": [
       "[('../../data/chest_xray\\\\train\\\\NORMAL\\\\IM-0115-0001.jpeg', 1),\n",
       " ('../../data/chest_xray\\\\train\\\\NORMAL\\\\IM-0117-0001.jpeg', 1),\n",
       " ('../../data/chest_xray\\\\train\\\\NORMAL\\\\IM-0119-0001.jpeg', 1),\n",
       " ('../../data/chest_xray\\\\train\\\\NORMAL\\\\IM-0122-0001.jpeg', 1),\n",
       " ('../../data/chest_xray\\\\train\\\\NORMAL\\\\IM-0125-0001.jpeg', 1)]"
      ]
     },
     "execution_count": 71,
     "metadata": {},
     "output_type": "execute_result"
    }
   ],
   "source": [
    "data = normal_train_img\n",
    "data.extend(pneumonia_train_img)\n",
    "data[:5]"
   ]
  },
  {
   "cell_type": "code",
   "execution_count": 72,
   "metadata": {},
   "outputs": [
    {
     "data": {
      "text/plain": [
       "list"
      ]
     },
     "execution_count": 72,
     "metadata": {},
     "output_type": "execute_result"
    }
   ],
   "source": [
    "type(data[-5:-1])"
   ]
  },
  {
   "cell_type": "code",
   "execution_count": 66,
   "metadata": {},
   "outputs": [],
   "source": [
    "data_train, data_test = train_test_split(data, train_size=0.8, random_state=2021)"
   ]
  },
  {
   "cell_type": "code",
   "execution_count": 77,
   "metadata": {},
   "outputs": [
    {
     "data": {
      "text/plain": [
       "array(['../../data/chest_xray\\\\train\\\\PNEUMONIA\\\\person515_bacteria_2185.jpeg',\n",
       "       '0'], dtype='<U67')"
      ]
     },
     "execution_count": 77,
     "metadata": {},
     "output_type": "execute_result"
    }
   ],
   "source": [
    "data_train[0]"
   ]
  },
  {
   "cell_type": "code",
   "execution_count": 246,
   "metadata": {
    "collapsed": true,
    "jupyter": {
     "outputs_hidden": true
    }
   },
   "outputs": [
    {
     "data": {
      "text/plain": [
       "array([[array([[[  0,   0,   0],\n",
       "        [  0,   0,   0],\n",
       "        [179, 179, 179],\n",
       "        ...,\n",
       "        [  0,   0,   0],\n",
       "        [  0,   0,   0],\n",
       "        [  0,   0,   0]],\n",
       "\n",
       "       [[  0,   0,   0],\n",
       "        [  0,   0,   0],\n",
       "        [167, 167, 167],\n",
       "        ...,\n",
       "        [  0,   0,   0],\n",
       "        [  0,   0,   0],\n",
       "        [  0,   0,   0]],\n",
       "\n",
       "       [[  0,   0,   0],\n",
       "        [  0,   0,   0],\n",
       "        [162, 162, 162],\n",
       "        ...,\n",
       "        [  0,   0,   0],\n",
       "        [  0,   0,   0],\n",
       "        [  0,   0,   0]],\n",
       "\n",
       "       ...,\n",
       "\n",
       "       [[ 16,  16,  16],\n",
       "        [ 16,  16,  16],\n",
       "        [ 15,  15,  15],\n",
       "        ...,\n",
       "        [ 16,  16,  16],\n",
       "        [  0,   0,   0],\n",
       "        [  0,   0,   0]],\n",
       "\n",
       "       [[  0,   0,   0],\n",
       "        [  0,   0,   0],\n",
       "        [  0,   0,   0],\n",
       "        ...,\n",
       "        [ 15,  15,  15],\n",
       "        [  0,   0,   0],\n",
       "        [  0,   0,   0]],\n",
       "\n",
       "       [[  0,   0,   0],\n",
       "        [  0,   0,   0],\n",
       "        [  0,   0,   0],\n",
       "        ...,\n",
       "        [ 17,  17,  17],\n",
       "        [  0,   0,   0],\n",
       "        [  0,   0,   0]]], dtype=uint8),\n",
       "        1],\n",
       "       [array([[[  0,   0,   0],\n",
       "        [  0,   0,   0],\n",
       "        [  0,   0,   0],\n",
       "        ...,\n",
       "        [  1,   1,   1],\n",
       "        [  0,   0,   0],\n",
       "        [  0,   0,   0]],\n",
       "\n",
       "       [[  0,   0,   0],\n",
       "        [  0,   0,   0],\n",
       "        [  0,   0,   0],\n",
       "        ...,\n",
       "        [  6,   6,   6],\n",
       "        [  3,   3,   3],\n",
       "        [  0,   0,   0]],\n",
       "\n",
       "       [[  0,   0,   0],\n",
       "        [  0,   0,   0],\n",
       "        [  0,   0,   0],\n",
       "        ...,\n",
       "        [253, 253, 253],\n",
       "        [190, 190, 190],\n",
       "        [  0,   0,   0]],\n",
       "\n",
       "       ...,\n",
       "\n",
       "       [[  1,   1,   1],\n",
       "        [  0,   0,   0],\n",
       "        [  0,   0,   0],\n",
       "        ...,\n",
       "        [254, 254, 254],\n",
       "        [252, 252, 252],\n",
       "        [  0,   0,   0]],\n",
       "\n",
       "       [[  0,   0,   0],\n",
       "        [  0,   0,   0],\n",
       "        [  0,   0,   0],\n",
       "        ...,\n",
       "        [  5,   5,   5],\n",
       "        [  3,   3,   3],\n",
       "        [  0,   0,   0]],\n",
       "\n",
       "       [[  0,   0,   0],\n",
       "        [  0,   0,   0],\n",
       "        [  0,   0,   0],\n",
       "        ...,\n",
       "        [  0,   0,   0],\n",
       "        [  0,   0,   0],\n",
       "        [  0,   0,   0]]], dtype=uint8),\n",
       "        0],\n",
       "       [array([[[0, 0, 0],\n",
       "        [0, 0, 0],\n",
       "        [0, 0, 0],\n",
       "        ...,\n",
       "        [0, 0, 0],\n",
       "        [0, 0, 0],\n",
       "        [0, 0, 0]],\n",
       "\n",
       "       [[0, 0, 0],\n",
       "        [0, 0, 0],\n",
       "        [0, 0, 0],\n",
       "        ...,\n",
       "        [0, 0, 0],\n",
       "        [0, 0, 0],\n",
       "        [0, 0, 0]],\n",
       "\n",
       "       [[0, 0, 0],\n",
       "        [0, 0, 0],\n",
       "        [0, 0, 0],\n",
       "        ...,\n",
       "        [0, 0, 0],\n",
       "        [0, 0, 0],\n",
       "        [0, 0, 0]],\n",
       "\n",
       "       ...,\n",
       "\n",
       "       [[0, 0, 0],\n",
       "        [0, 0, 0],\n",
       "        [0, 0, 0],\n",
       "        ...,\n",
       "        [0, 0, 0],\n",
       "        [0, 0, 0],\n",
       "        [0, 0, 0]],\n",
       "\n",
       "       [[0, 0, 0],\n",
       "        [0, 0, 0],\n",
       "        [0, 0, 0],\n",
       "        ...,\n",
       "        [0, 0, 0],\n",
       "        [0, 0, 0],\n",
       "        [0, 0, 0]],\n",
       "\n",
       "       [[0, 0, 0],\n",
       "        [0, 0, 0],\n",
       "        [0, 0, 0],\n",
       "        ...,\n",
       "        [0, 0, 0],\n",
       "        [0, 0, 0],\n",
       "        [0, 0, 0]]], dtype=uint8),\n",
       "        0],\n",
       "       [array([[[ 36,  36,  36],\n",
       "        [ 35,  35,  35],\n",
       "        [ 34,  34,  34],\n",
       "        ...,\n",
       "        [ 29,  29,  29],\n",
       "        [ 29,  29,  29],\n",
       "        [ 31,  31,  31]],\n",
       "\n",
       "       [[ 34,  34,  34],\n",
       "        [ 35,  35,  35],\n",
       "        [ 34,  34,  34],\n",
       "        ...,\n",
       "        [ 29,  29,  29],\n",
       "        [ 29,  29,  29],\n",
       "        [ 32,  32,  32]],\n",
       "\n",
       "       [[ 34,  34,  34],\n",
       "        [ 34,  34,  34],\n",
       "        [ 34,  34,  34],\n",
       "        ...,\n",
       "        [ 29,  29,  29],\n",
       "        [ 29,  29,  29],\n",
       "        [ 32,  32,  32]],\n",
       "\n",
       "       ...,\n",
       "\n",
       "       [[201, 201, 201],\n",
       "        [190, 190, 190],\n",
       "        [177, 177, 177],\n",
       "        ...,\n",
       "        [ 40,  40,  40],\n",
       "        [ 38,  38,  38],\n",
       "        [ 40,  40,  40]],\n",
       "\n",
       "       [[197, 197, 197],\n",
       "        [193, 193, 193],\n",
       "        [177, 177, 177],\n",
       "        ...,\n",
       "        [ 39,  39,  39],\n",
       "        [ 38,  38,  38],\n",
       "        [ 39,  39,  39]],\n",
       "\n",
       "       [[197, 197, 197],\n",
       "        [195, 195, 195],\n",
       "        [174, 174, 174],\n",
       "        ...,\n",
       "        [ 39,  39,  39],\n",
       "        [ 40,  40,  40],\n",
       "        [ 39,  39,  39]]], dtype=uint8),\n",
       "        0],\n",
       "       [array([[[74, 74, 74],\n",
       "        [62, 62, 62],\n",
       "        [56, 56, 56],\n",
       "        ...,\n",
       "        [74, 74, 74],\n",
       "        [70, 70, 70],\n",
       "        [69, 69, 69]],\n",
       "\n",
       "       [[71, 71, 71],\n",
       "        [60, 60, 60],\n",
       "        [58, 58, 58],\n",
       "        ...,\n",
       "        [71, 71, 71],\n",
       "        [77, 77, 77],\n",
       "        [70, 70, 70]],\n",
       "\n",
       "       [[68, 68, 68],\n",
       "        [57, 57, 57],\n",
       "        [59, 59, 59],\n",
       "        ...,\n",
       "        [75, 75, 75],\n",
       "        [73, 73, 73],\n",
       "        [71, 71, 71]],\n",
       "\n",
       "       ...,\n",
       "\n",
       "       [[25, 25, 25],\n",
       "        [25, 25, 25],\n",
       "        [24, 24, 24],\n",
       "        ...,\n",
       "        [21, 21, 21],\n",
       "        [21, 21, 21],\n",
       "        [21, 21, 21]],\n",
       "\n",
       "       [[25, 25, 25],\n",
       "        [25, 25, 25],\n",
       "        [24, 24, 24],\n",
       "        ...,\n",
       "        [21, 21, 21],\n",
       "        [21, 21, 21],\n",
       "        [21, 21, 21]],\n",
       "\n",
       "       [[25, 25, 25],\n",
       "        [25, 25, 25],\n",
       "        [24, 24, 24],\n",
       "        ...,\n",
       "        [21, 21, 21],\n",
       "        [21, 21, 21],\n",
       "        [21, 21, 21]]], dtype=uint8),\n",
       "        0]], dtype=object)"
      ]
     },
     "execution_count": 246,
     "metadata": {},
     "output_type": "execute_result"
    }
   ],
   "source": [
    "get_data(x[:5], x1[:5])"
   ]
  },
  {
   "cell_type": "code",
   "execution_count": 242,
   "metadata": {},
   "outputs": [
    {
     "data": {
      "text/plain": [
       "'../../data/chest_xray\\\\train\\\\PNEUMONIA\\\\person1609_bacteria_4237.jpeg'"
      ]
     },
     "execution_count": 242,
     "metadata": {},
     "output_type": "execute_result"
    }
   ],
   "source": [
    "x[100]"
   ]
  },
  {
   "cell_type": "code",
   "execution_count": 244,
   "metadata": {},
   "outputs": [],
   "source": []
  },
  {
   "cell_type": "code",
   "execution_count": 68,
   "metadata": {},
   "outputs": [],
   "source": [
    "# def get_data(data_dir, img_size=150):\n",
    "    \n",
    "#     data = [] \n",
    "    \n",
    "#     for entry in data_dir: \n",
    "#         path = entry[0]\n",
    "#         class_num = entry[1]\n",
    "        \n",
    "# #         for img in os.listdir(path):\n",
    "            \n",
    "#         try:\n",
    "#             img_arr = cv2.imread(path)\n",
    "#             resized_arr = cv2.resize(img_arr, (img_size, img_size)) # Reshaping images to preferred size\n",
    "#             data.append([resized_arr, class_num])\n",
    "                \n",
    "#         except Exception as e:\n",
    "#             print(e)\n",
    "                \n",
    "#     return np.array(data)"
   ]
  },
  {
   "cell_type": "code",
   "execution_count": 73,
   "metadata": {},
   "outputs": [],
   "source": [
    "train_imges = get_data(data_train)"
   ]
  },
  {
   "cell_type": "code",
   "execution_count": 56,
   "metadata": {},
   "outputs": [],
   "source": [
    "import matplotlib.pyplot as plt"
   ]
  },
  {
   "cell_type": "code",
   "execution_count": 59,
   "metadata": {
    "collapsed": true,
    "jupyter": {
     "outputs_hidden": true
    }
   },
   "outputs": [
    {
     "data": {
      "text/plain": [
       "array([[[  6,   6,   6],\n",
       "        [ 11,  11,  11],\n",
       "        [ 14,  14,  14],\n",
       "        ...,\n",
       "        [ 64,  64,  64],\n",
       "        [ 58,  58,  58],\n",
       "        [ 58,  58,  58]],\n",
       "\n",
       "       [[  3,   3,   3],\n",
       "        [  9,   9,   9],\n",
       "        [ 13,  13,  13],\n",
       "        ...,\n",
       "        [ 63,  63,  63],\n",
       "        [ 55,  55,  55],\n",
       "        [ 58,  58,  58]],\n",
       "\n",
       "       [[  3,   3,   3],\n",
       "        [  9,   9,   9],\n",
       "        [ 11,  11,  11],\n",
       "        ...,\n",
       "        [ 61,  61,  61],\n",
       "        [ 61,  61,  61],\n",
       "        [ 58,  58,  58]],\n",
       "\n",
       "       ...,\n",
       "\n",
       "       [[ 15,  15,  15],\n",
       "        [ 32,  32,  32],\n",
       "        [ 54,  54,  54],\n",
       "        ...,\n",
       "        [ 98,  98,  98],\n",
       "        [103, 103, 103],\n",
       "        [ 59,  59,  59]],\n",
       "\n",
       "       [[ 16,  16,  16],\n",
       "        [ 33,  33,  33],\n",
       "        [ 50,  50,  50],\n",
       "        ...,\n",
       "        [ 99,  99,  99],\n",
       "        [100, 100, 100],\n",
       "        [ 57,  57,  57]],\n",
       "\n",
       "       [[ 14,  14,  14],\n",
       "        [ 36,  36,  36],\n",
       "        [ 50,  50,  50],\n",
       "        ...,\n",
       "        [106, 106, 106],\n",
       "        [ 94,  94,  94],\n",
       "        [ 54,  54,  54]]], dtype=uint8)"
      ]
     },
     "execution_count": 59,
     "metadata": {},
     "output_type": "execute_result"
    }
   ],
   "source": [
    "train_imges[0][0]"
   ]
  },
  {
   "cell_type": "code",
   "execution_count": 76,
   "metadata": {},
   "outputs": [
    {
     "data": {
      "text/plain": [
       "<matplotlib.image.AxesImage at 0x1c95a56d370>"
      ]
     },
     "execution_count": 76,
     "metadata": {},
     "output_type": "execute_result"
    },
    {
     "data": {
      "image/png": "[encoded data removed]",
      "text/plain": [
       "<Figure size 432x288 with 1 Axes>"
      ]
     },
     "metadata": {
      "needs_background": "light"
     },
     "output_type": "display_data"
    }
   ],
   "source": [
    "plt.imshow(train_imges[5][0])"
   ]
  },
  {
   "cell_type": "code",
   "execution_count": null,
   "metadata": {},
   "outputs": [],
   "source": [
    "# def get_img_data(img_paths, img_size=150):\n",
    "#     '''\n",
    "#     Inputs: \n",
    "#         base_dir (string/os path) this is the base directory that contains the image folders\n",
    "#         labels (list of strings) this is a list containing the names of the containing folders (can use get_dir_list() )\n",
    "#     Returns:\n",
    "#         data (array of arrays) image data from desired folders\n",
    "#     '''\n",
    "#     data = []\n",
    "#     # iterate through desired folders in directory\n",
    "#     for img_path in img_paths:\n",
    "#         print(img_path)\n",
    "#         try:\n",
    "#             # use cv2 to read img data\n",
    "#             img_arr = cv2.imread(os.path.abspath(img_path), cv2.IMREAD_GRAYSCALE)\n",
    "#             # resize so all images match\n",
    "#             resized_arr = cv2.resize(img_arr, (img_size, img_size))\n",
    "#             data.append([resized_arr]) #, class_num])\n",
    "\n",
    "#         except:\n",
    "#             print('Sad_face')\n",
    "                \n",
    "#     return np.array(data)"
   ]
  },
  {
   "cell_type": "code",
   "execution_count": 4,
   "metadata": {},
   "outputs": [
    {
     "ename": "NameError",
     "evalue": "name 'get_img_data' is not defined",
     "output_type": "error",
     "traceback": [
      "\u001b[1;31m---------------------------------------------------------------------------\u001b[0m",
      "\u001b[1;31mNameError\u001b[0m                                 Traceback (most recent call last)",
      "\u001b[1;32m<ipython-input-4-192fb3adf151>\u001b[0m in \u001b[0;36m<module>\u001b[1;34m\u001b[0m\n\u001b[0;32m      1\u001b[0m \u001b[0mlabels\u001b[0m \u001b[1;33m=\u001b[0m \u001b[1;33m[\u001b[0m\u001b[1;34m'PNEUMONIA'\u001b[0m\u001b[1;33m,\u001b[0m \u001b[1;34m'NORMAL'\u001b[0m\u001b[1;33m]\u001b[0m\u001b[1;33m\u001b[0m\u001b[1;33m\u001b[0m\u001b[0m\n\u001b[0;32m      2\u001b[0m \u001b[1;33m\u001b[0m\u001b[0m\n\u001b[1;32m----> 3\u001b[1;33m \u001b[0mget_img_data\u001b[0m\u001b[1;33m(\u001b[0m\u001b[0mnormal_train_img\u001b[0m\u001b[1;33m[\u001b[0m\u001b[1;36m0\u001b[0m\u001b[1;33m:\u001b[0m\u001b[1;36m1\u001b[0m\u001b[1;33m]\u001b[0m\u001b[1;33m)\u001b[0m\u001b[1;33m\u001b[0m\u001b[1;33m\u001b[0m\u001b[0m\n\u001b[0m",
      "\u001b[1;31mNameError\u001b[0m: name 'get_img_data' is not defined"
     ]
    }
   ],
   "source": [
    "labels = ['PNEUMONIA', 'NORMAL']\n",
    "\n",
    "get_img_data(normal_train_img[0:1])"
   ]
  },
  {
   "cell_type": "code",
   "execution_count": null,
   "metadata": {},
   "outputs": [],
   "source": []
  }
 ],
 "metadata": {
  "kernelspec": {
   "display_name": "Python 3",
   "language": "python",
   "name": "python3"
  },
  "language_info": {
   "codemirror_mode": {
    "name": "ipython",
    "version": 3
   },
   "file_extension": ".py",
   "mimetype": "text/x-python",
   "name": "python",
   "nbconvert_exporter": "python",
   "pygments_lexer": "ipython3",
   "version": "3.8.2"
  }
 },
 "nbformat": 4,
 "nbformat_minor": 4
}
