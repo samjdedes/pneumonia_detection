{
 "cells": [
  {
   "cell_type": "code",
   "execution_count": 4,
   "metadata": {},
   "outputs": [],
   "source": [
    "# import packages for data manipulation\n",
    "import numpy as np\n",
    "import pandas as pd\n",
    "import os\n",
    "from glob import glob\n",
    "import tensorflow as tf"
   ]
  },
  {
   "cell_type": "code",
   "execution_count": 5,
   "metadata": {},
   "outputs": [],
   "source": [
    "def get_dir_folders(directory):\n",
    "    '''\n",
    "    Input: (string/ list) directory containing the folder names / file names within a given parent folder\n",
    "    Returns: (string/ list) clean_directory containing only folder names within the parent folder\n",
    "    '''\n",
    "    # create list copy of directory\n",
    "    clean_directory = list(directory)\n",
    "    \n",
    "    # iterate through directory\n",
    "    for name in directory:\n",
    "        \n",
    "        # remove all names with file extensions\n",
    "        print('path: ', name)\n",
    "        print('name[-4]', name[-4])\n",
    "        if '.' == name[-4]:\n",
    "            print(f'remove {name} from list')\n",
    "            clean_directory.remove(name)\n",
    "            \n",
    "        elif '.' in name[-6:]:\n",
    "            print(f'remove {name} from list')\n",
    "            clean_directory.remove(name)\n",
    "            \n",
    "        elif 'txt' in name:\n",
    "            print(f'remove {name} from list')\n",
    "            clean_directory.remove(name)\n",
    "            \n",
    "        elif 'tar' in name:\n",
    "            print(f'remove {name} from list')\n",
    "            clean_directory.remove(name)\n",
    "            \n",
    "    return clean_directory"
   ]
  },
  {
   "cell_type": "code",
   "execution_count": 6,
   "metadata": {},
   "outputs": [],
   "source": [
    "def get_img_paths(parent_folder, in_name='*'):\n",
    "    '''\n",
    "    Input: (string)\n",
    "    '''\n",
    "    return glob(os.path.join([folder for folder in image_folder if in_name in folder][0], '*'))\n"
   ]
  },
  {
   "cell_type": "code",
   "execution_count": null,
   "metadata": {},
   "outputs": [],
   "source": [
    "directory = '../data'\n",
    "folders = get_dir_folders(directory)\n",
    "path = get_img_paths()\n",
    "print(path)\n",
    "# tf.keras.preprocessing.image.load_img(\n",
    "#     path, grayscale=False, color_mode='rgb', target_size=None,\n",
    "#     interpolation='nearest'\n",
    "# )"
   ]
  }
 ],
 "metadata": {
  "kernelspec": {
   "display_name": "Python 3",
   "language": "python",
   "name": "python3"
  },
  "language_info": {
   "codemirror_mode": {
    "name": "ipython",
    "version": 3
   },
   "file_extension": ".py",
   "mimetype": "text/x-python",
   "name": "python",
   "nbconvert_exporter": "python",
   "pygments_lexer": "ipython3",
   "version": "3.8.2"
  }
 },
 "nbformat": 4,
 "nbformat_minor": 4
}
