{
 "cells": [
  {
   "cell_type": "code",
   "execution_count": null,
   "metadata": {},
   "outputs": [],
   "source": [
    "# Seaborn setting                                                                                                                                              \n",
    "sns.set(style='whitegrid', rc={\"grid.linewidth\": 0.1})\n",
    "sns.set_context(\"paper\", font_scale=0.9)                                                  \n",
    "plt.figure(figsize=(3.1, 3)) # Two column paper. Each column is about 3.15 inch wide.                                                                                                                                                                                                                                 \n",
    "color = sns.color_palette(\"Set2\", 6)\n",
    "\n",
    "# Create a box plot for my data                                                      \n",
    "splot = sns.boxplot(data=df, palette=color, whis=np.inf,                              \n",
    "        width=0.5, linewidth = 0.7)\n",
    "\n",
    "# Labels and clean up on the plot                                                                                                                                                                                                                                                                                              \n",
    "splot.set_ylabel('Normalized WS')                                                     \n",
    "plt.xticks(rotation=90)                                                               \n",
    "plt.tight_layout()                                                                    \n",
    "splot.yaxis.grid(True, clip_on=False)                                                 \n",
    "sns.despine(left=True, bottom=True)                                                   \n",
    "plt.savefig('test.pdf', bbox_inches='tight')"
   ]
  },
  {
   "cell_type": "code",
   "execution_count": null,
   "metadata": {},
   "outputs": [],
   "source": [
    "import seaborn as sns\n",
    "tips = sns.load_dataset(\"tips\")\n",
    "\n",
    "b = sns.boxplot(x=tips[\"total_bill\"])\n",
    "b.axes.set_title(\"Title\",fontsize=50)\n",
    "b.set_xlabel(\"X Label\",fontsize=30)\n",
    "b.set_ylabel(\"Y Label\",fontsize=20)\n",
    "b.tick_params(labelsize=5)\n",
    "sns.plt.show()"
   ]
  },
  {
   "cell_type": "markdown",
   "metadata": {},
   "source": [
    "# Color palette"
   ]
  },
  {
   "cell_type": "code",
   "execution_count": null,
   "metadata": {},
   "outputs": [],
   "source": [
    "# Plot color palette\n",
    "def plot_color_palette(palette: str):\n",
    "    figure = sns.palplot(sns.color_palette())\n",
    "    plt.xlabel(\"Color palette: \" + palette)\n",
    "    plt.show(figure)\n",
    "palettes = [\"deep\", \"muted\", \"pastel\", \"bright\", \"dark\", \"colorblind\"]\n",
    "for palette in palettes:\n",
    "    sns.set(palette=palette)\n",
    "    plot_color_palette(palette)"
   ]
  },
  {
   "cell_type": "code",
   "execution_count": null,
   "metadata": {},
   "outputs": [],
   "source": []
  },
  {
   "cell_type": "code",
   "execution_count": null,
   "metadata": {},
   "outputs": [],
   "source": []
  },
  {
   "cell_type": "code",
   "execution_count": null,
   "metadata": {},
   "outputs": [],
   "source": [
    "sns.relplot(x=\"total_bill\", y=\"tip\", \n",
    "            col=\"time\", # Categorical variables that will determine the faceting of the grid.\n",
    "            hue=\"smoker\", # Grouping variable that will produce elements with different colors.\n",
    "            style=\"smoker\", # Grouping variable that will produce elements with different styles.\n",
    "            size=\"size\", # Grouping variable that will produce elements with different sizes.\n",
    "            data=tips)"
   ]
  },
  {
   "cell_type": "markdown",
   "metadata": {},
   "source": [
    "# side by side"
   ]
  },
  {
   "cell_type": "code",
   "execution_count": null,
   "metadata": {},
   "outputs": [],
   "source": [
    "figure = plt.figure()\n",
    "figure.add_subplot(1, 2, 1)\n",
    "plt.imshow(image_grey, cmap='gray'), plt.axis(\"off\")\n",
    "figure.add_subplot(1, 2, 2)\n",
    "plt.imshow(image_binarized, cmap='gray'), plt.axis(\"off\")\n",
    "plt.show()\n"
   ]
  }
 ],
 "metadata": {
  "kernelspec": {
   "display_name": "Python 3",
   "language": "python",
   "name": "python3"
  },
  "language_info": {
   "codemirror_mode": {
    "name": "ipython",
    "version": 3
   },
   "file_extension": ".py",
   "mimetype": "text/x-python",
   "name": "python",
   "nbconvert_exporter": "python",
   "pygments_lexer": "ipython3",
   "version": "3.8.5"
  }
 },
 "nbformat": 4,
 "nbformat_minor": 4
}
